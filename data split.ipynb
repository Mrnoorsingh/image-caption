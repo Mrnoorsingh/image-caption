{
 "cells": [
  {
   "cell_type": "markdown",
   "metadata": {},
   "source": [
    "# Define Path for Files"
   ]
  },
  {
   "cell_type": "code",
   "execution_count": 10,
   "metadata": {},
   "outputs": [],
   "source": [
    "from pathlib import Path\n",
    "\n",
    "\n",
    "image_dir=Path(\"Flickr8k/Flicker8k_Dataset/\")\n",
    "\n",
    "folder_path=Path(\"Flickr8k/captions/\")\n",
    "captions_path=folder_path/\"Flickr8k.token.txt\"\n",
    "val_path=folder_path/\"Flickr_8k.devImages.txt\"\n",
    "test_path=folder_path/\"Flickr_8k.testImages.txt\"\n",
    "train_path=folder_path/\"Flickr_8k.trainImages.txt\"\n"
   ]
  },
  {
   "cell_type": "markdown",
   "metadata": {},
   "source": [
    "# Make file with columns image id and descriptions with beginning and stop tag"
   ]
  },
  {
   "cell_type": "code",
   "execution_count": 11,
   "metadata": {},
   "outputs": [],
   "source": [
    "def make_file(new_file,old_file):\n",
    "    with open(new_file,\"w\") as fn:\n",
    "        fn.write(\"image_id\\tcaptions\\n\")\n",
    "        for img in old_file:\n",
    "            if img==\"\":\n",
    "                continue\n",
    "            for capt in tokens[img]:\n",
    "                caption=\"<start>\"+capt+\"<end>\"\n",
    "                fn.write(img+\"\\t\"+caption+\"\\n\")"
   ]
  },
  {
   "cell_type": "markdown",
   "metadata": {},
   "source": [
    "# Convert file content into elements of list"
   ]
  },
  {
   "cell_type": "code",
   "execution_count": 12,
   "metadata": {},
   "outputs": [],
   "source": [
    "def load_file(txt_file):\n",
    "    with open(txt_file) as file :\n",
    "        return file.read().split(\"\\n\") \n",
    "        "
   ]
  },
  {
   "cell_type": "markdown",
   "metadata": {},
   "source": [
    "# Create dictionary of token text file"
   ]
  },
  {
   "cell_type": "code",
   "execution_count": 13,
   "metadata": {},
   "outputs": [],
   "source": [
    "tokens={}\n",
    "captions=load_file(captions_path)\n",
    "for line in range(len(captions)):\n",
    "    if captions[line]==\"\":#continue if element is empty\n",
    "        continue\n",
    "    temp=captions[line].split(\"#\")\n",
    "    image_id,image_dsc=temp[0],temp[1][2:]\n",
    "    if image_id in tokens:\n",
    "        tokens[image_id].append(image_dsc)#multiple descriptions for each each image id\n",
    "    else:\n",
    "        tokens[image_id]=[image_dsc]   "
   ]
  },
  {
   "cell_type": "code",
   "execution_count": 14,
   "metadata": {},
   "outputs": [],
   "source": [
    "make_file(folder_path/\"train_dataset.txt\",load_file(train_path))#create a new file for training dataset of image_ids and corresponding captions\n",
    "make_file(folder_path/\"test_dataset.txt\",load_file(test_path))#create a new file for testing dataset \n",
    "make_file(folder_path/\"valid_dataset.txt\",load_file(val_path))#create a new file for validation dataset"
   ]
  }
 ],
 "metadata": {
  "kernelspec": {
   "display_name": "Python 3",
   "language": "python",
   "name": "python3"
  },
  "language_info": {
   "codemirror_mode": {
    "name": "ipython",
    "version": 3
   },
   "file_extension": ".py",
   "mimetype": "text/x-python",
   "name": "python",
   "nbconvert_exporter": "python",
   "pygments_lexer": "ipython3",
   "version": "3.6.7"
  },
  "toc": {
   "base_numbering": 1,
   "nav_menu": {},
   "number_sections": true,
   "sideBar": true,
   "skip_h1_title": false,
   "title_cell": "Table of Contents",
   "title_sidebar": "Contents",
   "toc_cell": false,
   "toc_position": {},
   "toc_section_display": true,
   "toc_window_display": false
  }
 },
 "nbformat": 4,
 "nbformat_minor": 2
}
