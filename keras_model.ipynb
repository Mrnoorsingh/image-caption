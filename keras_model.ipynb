{
 "cells": [
  {
   "cell_type": "code",
   "execution_count": 47,
   "metadata": {},
   "outputs": [],
   "source": [
    "from keras.layers import RepeatVector,Dense,Embedding,LSTM,TimeDistributed,Concatenate,Activation\n",
    "from keras.models import Sequential,Model\n",
    "from keras.optimizers import RMSprop"
   ]
  },
  {
   "cell_type": "code",
   "execution_count": 45,
   "metadata": {},
   "outputs": [],
   "source": [
    "embedding_size=128\n",
    "max_len=39\n",
    "vocab_size=7669"
   ]
  },
  {
   "cell_type": "code",
   "execution_count": 53,
   "metadata": {},
   "outputs": [],
   "source": [
    "def create_model(embedding_size,max_len):\n",
    "    image_model=Sequential()\n",
    "    image_model.add(Dense(embedding_size,input_shape=(2048,),activation=\"relu\"))\n",
    "    image_model.add(RepeatVector(max_len))\n",
    "    #yield  image_model.summary()\n",
    "    \n",
    "    language_model=Sequential()\n",
    "    language_model.add(Embedding(input_dim=vocab_size,output_dim=embedding_size,input_length=max_len))\n",
    "    language_model.add(LSTM(256,return_sequences=True))\n",
    "    language_model.add(TimeDistributed(Dense(embedding_size)))\n",
    "    #yield language_model.summary()\n",
    "    \n",
    "    \n",
    "    conc=Concatenate()([image_model.output,language_model.output])\n",
    "    x=LSTM(128,return_sequences=True)(conc)\n",
    "    x=LSTM(512,return_sequences=False)(x)\n",
    "    x=Dense(vocab_size)(x)\n",
    "    out=Activation(\"softmax\")(x)\n",
    "    model=Model(inputs=[image_model.input,language_model.input],outputs=out)\n",
    "    model.compile(loss=\"categorical_crossentropy\",optimizer=\"RMSprop\",metrics=[\"accuracy\"])\n",
    "    print(\"model created!\")\n",
    "    return model.summary()\n"
   ]
  },
  {
   "cell_type": "code",
   "execution_count": 54,
   "metadata": {},
   "outputs": [
    {
     "name": "stdout",
     "output_type": "stream",
     "text": [
      "model created!\n",
      "__________________________________________________________________________________________________\n",
      "Layer (type)                    Output Shape         Param #     Connected to                     \n",
      "==================================================================================================\n",
      "embedding_4_input (InputLayer)  (None, 39)           0                                            \n",
      "__________________________________________________________________________________________________\n",
      "dense_12_input (InputLayer)     (None, 2048)         0                                            \n",
      "__________________________________________________________________________________________________\n",
      "embedding_4 (Embedding)         (None, 39, 128)      981632      embedding_4_input[0][0]          \n",
      "__________________________________________________________________________________________________\n",
      "dense_12 (Dense)                (None, 128)          262272      dense_12_input[0][0]             \n",
      "__________________________________________________________________________________________________\n",
      "lstm_10 (LSTM)                  (None, 39, 256)      394240      embedding_4[0][0]                \n",
      "__________________________________________________________________________________________________\n",
      "repeat_vector_5 (RepeatVector)  (None, 39, 128)      0           dense_12[0][0]                   \n",
      "__________________________________________________________________________________________________\n",
      "time_distributed_4 (TimeDistrib (None, 39, 128)      32896       lstm_10[0][0]                    \n",
      "__________________________________________________________________________________________________\n",
      "concatenate_4 (Concatenate)     (None, 39, 256)      0           repeat_vector_5[0][0]            \n",
      "                                                                 time_distributed_4[0][0]         \n",
      "__________________________________________________________________________________________________\n",
      "lstm_11 (LSTM)                  (None, 39, 128)      197120      concatenate_4[0][0]              \n",
      "__________________________________________________________________________________________________\n",
      "lstm_12 (LSTM)                  (None, 512)          1312768     lstm_11[0][0]                    \n",
      "__________________________________________________________________________________________________\n",
      "dense_14 (Dense)                (None, 7669)         3934197     lstm_12[0][0]                    \n",
      "__________________________________________________________________________________________________\n",
      "activation_3 (Activation)       (None, 7669)         0           dense_14[0][0]                   \n",
      "==================================================================================================\n",
      "Total params: 7,115,125\n",
      "Trainable params: 7,115,125\n",
      "Non-trainable params: 0\n",
      "__________________________________________________________________________________________________\n"
     ]
    }
   ],
   "source": [
    "model=create_model(embedding_size,39)\n",
    "model"
   ]
  },
  {
   "cell_type": "code",
   "execution_count": 48,
   "metadata": {},
   "outputs": [
    {
     "name": "stdout",
     "output_type": "stream",
     "text": [
      "model created!\n"
     ]
    }
   ],
   "source": [
    "\n"
   ]
  },
  {
   "cell_type": "code",
   "execution_count": null,
   "metadata": {},
   "outputs": [],
   "source": []
  }
 ],
 "metadata": {
  "kernelspec": {
   "display_name": "Python 3",
   "language": "python",
   "name": "python3"
  },
  "language_info": {
   "codemirror_mode": {
    "name": "ipython",
    "version": 3
   },
   "file_extension": ".py",
   "mimetype": "text/x-python",
   "name": "python",
   "nbconvert_exporter": "python",
   "pygments_lexer": "ipython3",
   "version": "3.6.7"
  },
  "toc": {
   "base_numbering": 1,
   "nav_menu": {},
   "number_sections": true,
   "sideBar": true,
   "skip_h1_title": false,
   "title_cell": "Table of Contents",
   "title_sidebar": "Contents",
   "toc_cell": false,
   "toc_position": {},
   "toc_section_display": true,
   "toc_window_display": false
  }
 },
 "nbformat": 4,
 "nbformat_minor": 2
}
