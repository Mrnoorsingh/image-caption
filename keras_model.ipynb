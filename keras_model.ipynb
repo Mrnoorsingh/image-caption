{
 "cells": [
  {
   "cell_type": "code",
   "execution_count": 17,
   "metadata": {
    "colab": {
     "base_uri": "https://localhost:8080/",
     "height": 34
    },
    "colab_type": "code",
    "id": "a1J8kOm2Rgf4",
    "outputId": "5f010efc-f963-4513-9b66-6285a074d76c"
   },
   "outputs": [],
   "source": [
    "import pandas as pd\n",
    "import pickle\n",
    "import pydot\n",
    "from keras.layers import RepeatVector,Dense,Embedding,LSTM,TimeDistributed,concatenate,Activation,Dropout,Input,SpatialDropout1D,Bidirectional,BatchNormalization\n",
    "from keras.models import Sequential,Model\n",
    "from keras.utils import plot_model\n",
    "from keras.optimizers import RMSprop\n",
    "from ImageCaption import build_vocab,max_sequence\n",
    "from keras.preprocessing import sequence\n",
    "from keras import backend\n",
    "import numpy as np"
   ]
  },
  {
   "cell_type": "code",
   "execution_count": 3,
   "metadata": {
    "colab": {},
    "colab_type": "code",
    "id": "cpLOikWBRgf-"
   },
   "outputs": [],
   "source": [
    "with open(\"features1.pickle\",\"rb\") as fpickle:\n",
    "    encoded_img=pickle.load(fpickle)"
   ]
  },
  {
   "cell_type": "code",
   "execution_count": 4,
   "metadata": {
    "colab": {
     "base_uri": "https://localhost:8080/",
     "height": 34
    },
    "colab_type": "code",
    "id": "VriHQ2ghRggD",
    "outputId": "010570e2-7252-45ef-eb85-d512a69f43d2"
   },
   "outputs": [
    {
     "name": "stdout",
     "output_type": "stream",
     "text": [
      "(30000, 2)\n"
     ]
    }
   ],
   "source": [
    "dataset=pd.read_csv(\"Flickr8k/captions/train_dataset.txt\",delimiter=\"\\t\")#read training dataset file\n",
    "pd_frame=dataset.values\n",
    "print(pd_frame.shape)"
   ]
  },
  {
   "cell_type": "code",
   "execution_count": 5,
   "metadata": {
    "colab": {
     "base_uri": "https://localhost:8080/",
     "height": 34
    },
    "colab_type": "code",
    "id": "4Q0WbsWWRggL",
    "outputId": "3e25f522-be23-4db8-e59b-1b2f2ac2c8c1"
   },
   "outputs": [
    {
     "data": {
      "text/plain": [
       "30000"
      ]
     },
     "execution_count": 5,
     "metadata": {},
     "output_type": "execute_result"
    }
   ],
   "source": [
    "sentences=[]\n",
    "for sent in range(pd_frame.shape[0]):\n",
    "    sentence=pd_frame[sent][1]\n",
    "    sentences.append(sentence)#append all the sentences in a list\n",
    "len(sentences)    "
   ]
  },
  {
   "cell_type": "code",
   "execution_count": 6,
   "metadata": {
    "colab": {
     "base_uri": "https://localhost:8080/",
     "height": 34
    },
    "colab_type": "code",
    "id": "Mg6BoMF7RggT",
    "outputId": "b5e1a238-cebe-4c6d-8f5f-97ffbc750799"
   },
   "outputs": [
    {
     "data": {
      "text/plain": [
       "7669"
      ]
     },
     "execution_count": 6,
     "metadata": {},
     "output_type": "execute_result"
    }
   ],
   "source": [
    "vocabulary,clean_desc=build_vocab(sentences,1)\n",
    "vocab_size=len(vocabulary)+1\n",
    "vocab_size"
   ]
  },
  {
   "cell_type": "code",
   "execution_count": 7,
   "metadata": {
    "colab": {
     "base_uri": "https://localhost:8080/",
     "height": 34
    },
    "colab_type": "code",
    "id": "GWLPR1xPRlnj",
    "outputId": "f6d61086-41e7-4657-cc83-848687939544"
   },
   "outputs": [
    {
     "data": {
      "text/plain": [
       "383266"
      ]
     },
     "execution_count": 7,
     "metadata": {},
     "output_type": "execute_result"
    }
   ],
   "source": [
    "total_count=sum([len(word.split())-1 for word in clean_desc])#total count of words\n",
    "total_count"
   ]
  },
  {
   "cell_type": "code",
   "execution_count": 8,
   "metadata": {
    "colab": {
     "base_uri": "https://localhost:8080/",
     "height": 34
    },
    "colab_type": "code",
    "id": "z1LSRziZRggZ",
    "outputId": "5a9ce30b-87b3-46e9-915c-30cbb26c377b"
   },
   "outputs": [
    {
     "data": {
      "text/plain": [
       "7669"
      ]
     },
     "execution_count": 8,
     "metadata": {},
     "output_type": "execute_result"
    }
   ],
   "source": [
    "#vectorization\n",
    "word2id={value:index for index,value in enumerate(vocabulary)}\n",
    "id2word={index:value for index,value in enumerate(vocabulary)}\n",
    "\n",
    "word2id[id2word.get(0)]=7668\n",
    "word2id[\"PAD\"]=0\n",
    "\n",
    "id2word[7668]=id2word.get(0)\n",
    "id2word[0]=\"PAD\"\n",
    "\n",
    "len(list(word2id.keys()))"
   ]
  },
  {
   "cell_type": "code",
   "execution_count": 14,
   "metadata": {
    "colab": {
     "base_uri": "https://localhost:8080/",
     "height": 34
    },
    "colab_type": "code",
    "id": "8nzJZ9Y75Ipe",
    "outputId": "11e859bf-b52a-4e75-ae77-8dec805f113b"
   },
   "outputs": [
    {
     "data": {
      "text/plain": [
       "2129.2555555555555"
      ]
     },
     "execution_count": 14,
     "metadata": {},
     "output_type": "execute_result"
    }
   ],
   "source": [
    "#fix values for model training\n",
    "embedding_size=300\n",
    "max_length=max_sequence(clean_desc)\n",
    "batch_size=180\n",
    "steps=total_count/batch_size\n",
    "steps"
   ]
  },
  {
   "cell_type": "code",
   "execution_count": 10,
   "metadata": {
    "colab": {},
    "colab_type": "code",
    "id": "JPcCBKChRggg"
   },
   "outputs": [],
   "source": [
    "def data_generator(encoded_img,frame,max_len,batch_size,word2id):\n",
    "    images=[]\n",
    "    partial_seq=[]\n",
    "    next_words=[]\n",
    "    batch_count=0\n",
    "    while True:\n",
    "    \n",
    "        for idx in range(len(frame)):\n",
    "            encoded_image=encoded_img[frame[idx][0]]\n",
    "            encoded_txt=[word2id[text] for text in clean_desc[idx].split()]\n",
    "            for i in range(1,len(encoded_txt)):\n",
    "                batch_count+=1\n",
    "                partial_seq.append(encoded_txt[:i])\n",
    "                next_words.append(encoded_txt[i])\n",
    "                images.append(encoded_image)\n",
    "                \n",
    "                if batch_count>=batch_size:\n",
    "                    batch_count=0\n",
    "                    partial_seq=sequence.pad_sequences(partial_seq,max_len,padding=\"post\")#returns zero padded sequence\n",
    "                    \n",
    "                    #one hot encoding for target words\n",
    "                    hotvector = np.zeros([len(next_words), vocab_size])\n",
    "                    for i,next_word in enumerate(next_words):\n",
    "                        hotvector[i,next_word]=1\n",
    "                        \n",
    "                    images=np.asarray(images)\n",
    "                    next_words=np.asarray(hotvector)\n",
    "                     \n",
    "                    yield [[images,partial_seq],next_words]    \n",
    "                    partial_seq=[]\n",
    "                    next_words=[]\n",
    "                    images=[]\n",
    "                "
   ]
  },
  {
   "cell_type": "code",
   "execution_count": 19,
   "metadata": {
    "colab": {},
    "colab_type": "code",
    "id": "gFc32Yd6ksBI"
   },
   "outputs": [],
   "source": [
    "def create_model(embedding_size,max_len,vocab_size):\n",
    "    #image encoder\n",
    "    input1=Input(shape=(2048,))\n",
    "    image2=Dense(embedding_size, activation='relu')(input1)\n",
    "    image3=RepeatVector(max_len)(image2)\n",
    "    \n",
    "    #text encoder\n",
    "    input2=Input(shape=(max_len,))\n",
    "    emb=Embedding(vocab_size, embedding_size)(input2)\n",
    "    l1=LSTM(256,return_sequences=True)(emb)\n",
    "    td=TimeDistributed(Dense(embedding_size))\n",
    "\n",
    "    \n",
    "    #decoder\n",
    "    conc=concatenate([image3,l1])\n",
    "    x=LSTM(512,return_sequences=True)(conc)\n",
    "    x=LSTM(512,return_sequences=False)(x)\n",
    "    x = Dense(vocab_size)(x)\n",
    "    out = Activation('softmax')(x)\n",
    "    model = Model(inputs=[input1,input2], outputs = out) \n",
    "    model.summary()\n",
    "    \n",
    "    model.compile(loss=\"categorical_crossentropy\",optimizer=RMSprop(lr=0.0001) ,metrics=[\"accuracy\"])\n",
    "    #plot_model(model, to_file='model.png')\n",
    "    #print(backend.eval(model.optimizer.lr))\n",
    "    return model\n",
    "\n",
    "\n"
   ]
  },
  {
   "cell_type": "code",
   "execution_count": 20,
   "metadata": {
    "colab": {
     "base_uri": "https://localhost:8080/",
     "height": 527
    },
    "colab_type": "code",
    "id": "YWx0jOaxRggw",
    "outputId": "a1319d6b-d60d-43de-cfaf-8046cc225ccb"
   },
   "outputs": [
    {
     "name": "stdout",
     "output_type": "stream",
     "text": [
      "__________________________________________________________________________________________________\n",
      "Layer (type)                    Output Shape         Param #     Connected to                     \n",
      "==================================================================================================\n",
      "input_7 (InputLayer)            (None, 2048)         0                                            \n",
      "__________________________________________________________________________________________________\n",
      "input_8 (InputLayer)            (None, 39)           0                                            \n",
      "__________________________________________________________________________________________________\n",
      "dense_10 (Dense)                (None, 300)          614700      input_7[0][0]                    \n",
      "__________________________________________________________________________________________________\n",
      "embedding_4 (Embedding)         (None, 39, 300)      2300700     input_8[0][0]                    \n",
      "__________________________________________________________________________________________________\n",
      "repeat_vector_4 (RepeatVector)  (None, 39, 300)      0           dense_10[0][0]                   \n",
      "__________________________________________________________________________________________________\n",
      "lstm_10 (LSTM)                  (None, 39, 256)      570368      embedding_4[0][0]                \n",
      "__________________________________________________________________________________________________\n",
      "concatenate_4 (Concatenate)     (None, 39, 556)      0           repeat_vector_4[0][0]            \n",
      "                                                                 lstm_10[0][0]                    \n",
      "__________________________________________________________________________________________________\n",
      "lstm_11 (LSTM)                  (None, 39, 512)      2189312     concatenate_4[0][0]              \n",
      "__________________________________________________________________________________________________\n",
      "lstm_12 (LSTM)                  (None, 512)          2099200     lstm_11[0][0]                    \n",
      "__________________________________________________________________________________________________\n",
      "dense_12 (Dense)                (None, 7669)         3934197     lstm_12[0][0]                    \n",
      "__________________________________________________________________________________________________\n",
      "activation_4 (Activation)       (None, 7669)         0           dense_12[0][0]                   \n",
      "==================================================================================================\n",
      "Total params: 11,708,477\n",
      "Trainable params: 11,708,477\n",
      "Non-trainable params: 0\n",
      "__________________________________________________________________________________________________\n"
     ]
    }
   ],
   "source": [
    "model=create_model(embedding_size,max_length,vocab_size)"
   ]
  },
  {
   "cell_type": "code",
   "execution_count": 0,
   "metadata": {
    "colab": {},
    "colab_type": "code",
    "id": "Jkzcwem4LBXb"
   },
   "outputs": [],
   "source": [
    "model.load_weights(\"180batch_60ep_newmodel_300.h5\")"
   ]
  }
 ],
 "metadata": {
  "accelerator": "GPU",
  "colab": {
   "collapsed_sections": [],
   "name": "keras_model.ipynb",
   "provenance": [],
   "version": "0.3.2"
  },
  "kernelspec": {
   "display_name": "Python 3",
   "language": "python",
   "name": "python3"
  },
  "language_info": {
   "codemirror_mode": {
    "name": "ipython",
    "version": 3
   },
   "file_extension": ".py",
   "mimetype": "text/x-python",
   "name": "python",
   "nbconvert_exporter": "python",
   "pygments_lexer": "ipython3",
   "version": "3.6.7"
  },
  "toc": {
   "base_numbering": 1,
   "nav_menu": {},
   "number_sections": true,
   "sideBar": true,
   "skip_h1_title": false,
   "title_cell": "Table of Contents",
   "title_sidebar": "Contents",
   "toc_cell": false,
   "toc_position": {},
   "toc_section_display": true,
   "toc_window_display": false
  }
 },
 "nbformat": 4,
 "nbformat_minor": 1
}
