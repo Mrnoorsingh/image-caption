{
 "cells": [
  {
   "cell_type": "code",
   "execution_count": 1,
   "metadata": {},
   "outputs": [],
   "source": [
    "import pandas as pd\n",
    "from collections import Counter\n",
    "import re\n",
    "from string import digits"
   ]
  },
  {
   "cell_type": "code",
   "execution_count": 11,
   "metadata": {},
   "outputs": [],
   "source": [
    "def build_vocab(sentences,threshold):\n",
    "    counter=Counter()\n",
    "    for line in sentences:\n",
    "        #tokenize sentence into words\n",
    "        token=line.split()\n",
    "        #lowercase words in list\n",
    "        low_word=[word.lower() for word in token]\n",
    "        #remove digits from the list\n",
    "        remove_digits = str.maketrans('', '', digits)\n",
    "        word_list= [i.translate(remove_digits) for i in low_word]\n",
    "        #remove empty string elements from the list\n",
    "        remove_space=list(filter(None,word_list))\n",
    "        #update values in counter\n",
    "        counter.update(remove_space)\n",
    "    #remove words from vocabulary if frequency is less than given threshold    \n",
    "    vocabulary=[key for key,value in counter.items() if value>=threshold]    \n",
    "        \n",
    "    return vocabulary\n",
    "        "
   ]
  },
  {
   "cell_type": "code",
   "execution_count": 3,
   "metadata": {},
   "outputs": [
    {
     "name": "stdout",
     "output_type": "stream",
     "text": [
      "(30000, 2)\n"
     ]
    }
   ],
   "source": [
    "pd_dataset=pd.read_csv(\"Flickr8k/captions/train_dataset.txt\",delimiter=\"\\t\")\n",
    "pd_frame=pd_dataset.values\n",
    "print(pd_frame.shape)"
   ]
  },
  {
   "cell_type": "code",
   "execution_count": 18,
   "metadata": {},
   "outputs": [
    {
     "data": {
      "text/plain": [
       "30000"
      ]
     },
     "execution_count": 18,
     "metadata": {},
     "output_type": "execute_result"
    }
   ],
   "source": [
    "sentences=[]\n",
    "for sent in range(pd_frame.shape[0]):\n",
    "    sentence=pd_frame[sent][1]\n",
    "    sentences.append(sentence)#append the sentence is list sentences\n",
    "len(sentences)   "
   ]
  },
  {
   "cell_type": "code",
   "execution_count": 19,
   "metadata": {},
   "outputs": [
    {
     "data": {
      "text/plain": [
       "7668"
      ]
     },
     "execution_count": 19,
     "metadata": {},
     "output_type": "execute_result"
    }
   ],
   "source": [
    "vocabulary=build_vocab(sentences,1)\n",
    "len(vocabulary)"
   ]
  }
 ],
 "metadata": {
  "kernelspec": {
   "display_name": "Python 3",
   "language": "python",
   "name": "python3"
  },
  "language_info": {
   "codemirror_mode": {
    "name": "ipython",
    "version": 3
   },
   "file_extension": ".py",
   "mimetype": "text/x-python",
   "name": "python",
   "nbconvert_exporter": "python",
   "pygments_lexer": "ipython3",
   "version": "3.6.7"
  },
  "toc": {
   "base_numbering": 1,
   "nav_menu": {},
   "number_sections": true,
   "sideBar": true,
   "skip_h1_title": false,
   "title_cell": "Table of Contents",
   "title_sidebar": "Contents",
   "toc_cell": false,
   "toc_position": {},
   "toc_section_display": true,
   "toc_window_display": false
  }
 },
 "nbformat": 4,
 "nbformat_minor": 2
}
